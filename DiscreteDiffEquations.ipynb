{
  "nbformat": 4,
  "nbformat_minor": 0,
  "metadata": {
    "colab": {
      "name": "EquaçãoDiferenças.ipynb",
      "provenance": [],
      "collapsed_sections": []
    },
    "kernelspec": {
      "name": "python3",
      "display_name": "Python 3"
    }
  },
  "cells": [
    {
      "cell_type": "code",
      "metadata": {
        "id": "C0t1WwaZEq1G"
      },
      "source": [
        "import math\n",
        "import numpy as np\n",
        "from copy import deepcopy, copy\n",
        "import matplotlib.pyplot as plt\n",
        "from numpy.lib.scimath import sqrt\n",
        "from numpy import pi, exp, real, imag, linspace, sin, cos"
      ],
      "execution_count": null,
      "outputs": []
    },
    {
      "cell_type": "code",
      "metadata": {
        "id": "Kk-EkUf42vMK"
      },
      "source": [
        "class Function():\n",
        "  def __init__(self, coefs, args, func, op):\n",
        "    self.coefs, self.args, self.func, self.op = coefs, args, func, op"
      ],
      "execution_count": null,
      "outputs": []
    },
    {
      "cell_type": "code",
      "metadata": {
        "id": "8dvR0S6UIkhd"
      },
      "source": [
        "def bhaskara(a, b, c):\n",
        "  if a == 0:\n",
        "    return [-c/b]\n",
        "  else:\n",
        "    delta_squared = sqrt(b ** 2 - (4 * a * c))\n",
        "    x1 = (-b + delta_squared) / (2 * a)\n",
        "    x2 = (-b - delta_squared) / (2 * a)\n",
        "    return [x1, x2]"
      ],
      "execution_count": null,
      "outputs": []
    },
    {
      "cell_type": "code",
      "metadata": {
        "id": "X2MGrdqRCW-F"
      },
      "source": [
        "def cramer(A, R):\n",
        "    l = A.shape[0]\n",
        "    D = np.linalg.det(A)\n",
        "    det = np.zeros(l)\n",
        "    for column in range(l) :\n",
        "        Acopy = deepcopy(A)\n",
        "        for i in range(l):\n",
        "            Acopy[i, column] = R[i]\n",
        "        det[column] = np.linalg.det(Acopy)\n",
        "    res = np.zeros(l)\n",
        "    for i in range(len(det)) :\n",
        "        res[i] = det[i]/D\n",
        "    return list(res)"
      ],
      "execution_count": null,
      "outputs": []
    },
    {
      "cell_type": "code",
      "metadata": {
        "id": "j4Cfz-jOJeCL"
      },
      "source": [
        "def step(n):\n",
        "  return 1 if n >= 0 else 0"
      ],
      "execution_count": null,
      "outputs": []
    },
    {
      "cell_type": "code",
      "metadata": {
        "id": "5voZcSVCw_Aa"
      },
      "source": [
        "def get_natural(coefs):\n",
        "  a, b, c = coefs\n",
        "  if c == 0:\n",
        "    a, b, c = c, a, b\n",
        "  roots = bhaskara(a, b, c)\n",
        "  func = lambda n: [root ** n for root in roots]\n",
        "  return Function(None, roots, func, [EXPONENTIAL for root in roots])"
      ],
      "execution_count": null,
      "outputs": []
    },
    {
      "cell_type": "code",
      "metadata": {
        "id": "2F72ISWc19M5"
      },
      "source": [
        "def get_particular(x):\n",
        "  c_x, args, op = x\n",
        "\n",
        "  if op == EXPONENTIAL:\n",
        "    func = lambda n: [arg ** n for arg in args]\n",
        "  else:\n",
        "    func = lambda n: [cos(args[0] * n), sin(args[0] * n)]\n",
        "  return Function(None, args, func, [op])"
      ],
      "execution_count": null,
      "outputs": []
    },
    {
      "cell_type": "code",
      "metadata": {
        "id": "rn4pjADVmwqV"
      },
      "source": [
        "def get_forced(y_n, y_p, b):\n",
        "  args = y_n.args + y_p.args\n",
        "  k = len(b) - 1\n",
        "  func = lambda n: list(map(lambda y: (y * step(n - k)), y_n.func(n) + y_p.func(n)))\n",
        "  op = y_n.op + y_p.op\n",
        "  return Function(None, args, func, op)"
      ],
      "execution_count": null,
      "outputs": []
    },
    {
      "cell_type": "code",
      "metadata": {
        "id": "BoGM17CK03Hy"
      },
      "source": [
        "def get_x(x):\n",
        "  c_x, args, op = x\n",
        "  if op == EXPONENTIAL:\n",
        "    func = lambda n: [c_x * arg ** n * step(n) for arg in args]\n",
        "  elif op == COSSINE:\n",
        "    func = lambda n: [c_x * cos(arg * n) * step(n) for arg in args]\n",
        "  else:\n",
        "    func = lambda n: [c_x * cos(arg * n) * step(n) for arg in args]\n",
        "  return Function(c_x, args, func, op)"
      ],
      "execution_count": null,
      "outputs": []
    },
    {
      "cell_type": "code",
      "metadata": {
        "id": "zPIwOtdzuxGa"
      },
      "source": [
        "def calculate_forced(a, y_f, b, x):\n",
        "  total_coefs = len(y_f.args)\n",
        "  mat = []\n",
        "  R = []\n",
        "  start = len(b) - 1\n",
        "  for n in range(start, total_coefs + start):\n",
        "    sigma = [0 for i in range(total_coefs)]\n",
        "    for k in range(len(a)):\n",
        "      result = y_f.func(n - k)\n",
        "      temp = list(map(lambda y: a[k] * y, result))\n",
        "      sigma = list(map(sum, zip(temp, sigma)))\n",
        "    mat.append(sigma)\n",
        "    sigma = 0\n",
        "    for k in range(len(b)):\n",
        "      result = x.func(n - k)\n",
        "      temp = list(map(lambda x: b[k] * x, result))\n",
        "      sigma = sigma + sum(temp)\n",
        "    R.append(sigma)\n",
        "  mat = np.array(mat)\n",
        "  R = np.array(R)\n",
        "  return cramer(mat, R)"
      ],
      "execution_count": null,
      "outputs": []
    },
    {
      "cell_type": "code",
      "metadata": {
        "id": "idZtr2ho0VKg"
      },
      "source": [
        "def calculate_natural(y_n, y_init):\n",
        "  mat = []\n",
        "  R = []\n",
        "  for n, val in y_init:\n",
        "    mat.append(y_n.func(n))\n",
        "    R.append(val)\n",
        "  mat = np.array(mat)\n",
        "  R = np.array(R)\n",
        "  return cramer(mat, R)"
      ],
      "execution_count": null,
      "outputs": []
    },
    {
      "cell_type": "code",
      "metadata": {
        "id": "id5W4cNC5QSR"
      },
      "source": [
        "def get_complete(y_n, y_f):\n",
        "  func = lambda n: y_n.func(n) + y_f.func(n)\n",
        "  args = y_n.args + y_f.args\n",
        "  coefs = y_n.coefs + y_f.coefs\n",
        "  op = y_n.op + y_f.op\n",
        "  return Function(coefs, args, func, op)"
      ],
      "execution_count": null,
      "outputs": []
    },
    {
      "cell_type": "code",
      "metadata": {
        "id": "QXmhaoYOEHVd"
      },
      "source": [
        "def loop_print(text, y):\n",
        "  aux_print = {EXPONENTIAL: \"{0} * ({1})^n\", COSSINE: \"{0} * cos({1} * n)\", SINE: \"{0} * sin({1} * n)\"}\n",
        "  for i in range(len(y.coefs)):\n",
        "    string = aux_print[y.op[i]]\n",
        "    text = text + string.format(round(y.coefs[i], 3), round(y.args[i], 3)) + \" + \"\n",
        "  return text"
      ],
      "execution_count": null,
      "outputs": []
    },
    {
      "cell_type": "code",
      "metadata": {
        "id": "I82PKHpx4awQ"
      },
      "source": [
        "def print_complete_answer(y_n, y_f, b):\n",
        "  text = \"Resposta completa: \"\n",
        "  text = loop_print(text, y_n) + \"(\"\n",
        "  text = loop_print(text, y_f)[:-3] + \")\" + (\" * u[n]\" if len(b) == 1 else \" * u[n - {0}]\".format(len(b) - 1))\n",
        "  return print(text)"
      ],
      "execution_count": null,
      "outputs": []
    },
    {
      "cell_type": "markdown",
      "metadata": {
        "id": "jNlmCakuq9aE"
      },
      "source": [
        "# Célula de resolução de equações a diferenças:\n",
        "\n",
        "<a href=\"https://www.codecogs.com/eqnedit.php?latex=\\large&space;a_0\\cdot&space;y[n]&plus;a_1\\cdot&space;y[n-1]&plus;a_2\\cdot&space;y[n-2]=&space;\\sum_{i=0}^{N}&space;b_i\\cdot&space;x[n&plus;k_i]\" target=\"_blank\"><img src=\"https://latex.codecogs.com/gif.latex?\\large&space;a_0\\cdot&space;y[n]&plus;a_1\\cdot&space;y[n-1]&plus;a_2\\cdot&space;y[n-2]=&space;\\sum_{i=0}^{N}&space;b_i\\cdot&space;x[n&plus;k_i]\" title=\"\\large a_0\\cdot y[n]+a_1\\cdot y[n-1]+a_2\\cdot y[n-2]= \\sum_{i=0}^{N} b_i\\cdot x[n+k_i]\" /></a>\n",
        "\n",
        "\n",
        "Só testei o descobrimento de respostas completas. Para fim de exemplo, a letra B do exercício 2.22 do Haykin e a 1ª questão da 2ª parte da prova de Sinais e Sistemas 2 foram recriadas abaixo."
      ]
    },
    {
      "cell_type": "code",
      "metadata": {
        "id": "u9dkiVrlLM_u"
      },
      "source": [
        "EXPONENTIAL = 0\n",
        "COSSINE = 1\n",
        "SINE = 2"
      ],
      "execution_count": null,
      "outputs": []
    },
    {
      "cell_type": "code",
      "metadata": {
        "id": "TQvURMR2n94E",
        "colab": {
          "base_uri": "https://localhost:8080/",
          "height": 34
        },
        "outputId": "4f206df0-2f47-4ee5-bfdb-22aeab62d34a"
      },
      "source": [
        "# LETRA B DO EXERCÍCIO 2.22 DO HAYKIN:\n",
        "# y[n] + 0 * y[n - 1] - (1/9) * y [n - 2] = 0 * x[n] + x[n - 1]\n",
        "# ONDE x[n] = u[n]\n",
        "# E y[-1] = 1, y[-2] = 0\n",
        "\n",
        "# a0 = 1, a1 = 0 E a2 = -1/9\n",
        "a = [1, 0, -1/9]\n",
        "\n",
        "# b0 = 0 e b1 = 1\n",
        "b = [0, 1]\n",
        "\n",
        "#    1 * 1    ^       n  = QUE É UM ARMENGUE PARA DECLARAR u[n]\n",
        "x = (1, [1], EXPONENTIAL)\n",
        "\n",
        "# O 1º NÚMERO DO PAR É O n de y[n] e O 2º É O VALOR DAQUELA POSIÇÃO\n",
        "y_init = [(-1, 1), (-2, 0)]\n",
        "\n",
        "y_n = get_natural(a)\n",
        "y_p = get_particular(x)\n",
        "x = get_x(x)\n",
        "\n",
        "\n",
        "y_f = get_forced(y_n, y_p, b)\n",
        "\n",
        "y_n.coefs = calculate_natural(y_n, y_init)\n",
        "y_f.coefs = calculate_forced(a, y_f, b, x)\n",
        "\n",
        "print_complete_answer(y_n, y_f, b)"
      ],
      "execution_count": null,
      "outputs": [
        {
          "output_type": "stream",
          "text": [
            "Resposta completa: 0.167 * (0.333)^n + -0.167 * (-0.333)^n + (-0.75 * (0.333)^n + -0.375 * (-0.333)^n + 1.125 * (1)^n) * u[n - 1]\n"
          ],
          "name": "stdout"
        }
      ]
    },
    {
      "cell_type": "code",
      "metadata": {
        "id": "nQQjXWGhLJcC",
        "colab": {
          "base_uri": "https://localhost:8080/",
          "height": 34
        },
        "outputId": "5a860f1a-a887-4c74-cc32-218a79fad3a7"
      },
      "source": [
        "# RESOLUÇÃO DA 1º QUESTÃO DA 2ª PARTE DA PROVA DE SINAIS E SISTEMAS 2:\n",
        "\n",
        "a = [1, -1/4, -1/8]\n",
        "b = [1, 1]\n",
        "\n",
        "#    1 * cos((1/5) * pi)\n",
        "x = (1, [(1/5) * pi], COSSINE)\n",
        "\n",
        "y_init = [(-1, 2), (-2, -1)]\n",
        "\n",
        "y_n = get_natural(a)\n",
        "y_p = get_particular(x)\n",
        "x = get_x(x)\n",
        "\n",
        "\n",
        "y_f = get_forced(y_n, y_p, b)\n",
        "\n",
        "\n",
        "y_n.coefs = calculate_natural(y_n, y_init)\n",
        "y_f.coefs = calculate_forced(a, y_f, b, x)\n",
        "\n",
        "print_complete_answer(y_n, y_f, b)"
      ],
      "execution_count": null,
      "outputs": [
        {
          "output_type": "stream",
          "text": [
            "Resposta completa: 0.583 * (0.5)^n + -0.208 * (-0.25)^n + (5.393 * (0.5)^n + 3.551 * (-0.25)^n + -0.0 * cos(0.628 * n)) * u[n - 1]\n"
          ],
          "name": "stdout"
        }
      ]
    }
  ]
}